{
 "cells": [
  {
   "cell_type": "markdown",
   "metadata": {},
   "source": [
    "Step 1: Run in the terminal \"pip install kaggle\"  \n",
    "Step 2: Activate kaggle API token in Account tab  \n",
    "Step 3: Get kaggle.json file -> save to C:/Users/jtrum/.kaggle  \n",
    "Step 4: Run in the terminal \"kaggle datasets download -d kmader/satellite-images-of-hurricane-damage  \n",
    "Step 5: Run code chunk below -> specify pathway where it says (\"~/datasets/\")  "
   ]
  },
  {
   "cell_type": "code",
   "execution_count": null,
   "metadata": {},
   "outputs": [],
   "source": [
    "import os\n",
    "import zipfile\n",
    "\n",
    "with zipfile.ZipFile(\"satellite-images-of-hurricane-damage.zip\", \"r\") as zip_ref:\n",
    "    zip_ref.extractall(os.path.expanduser(\"C:/Users/jtrum/pennmusa/MUSA6500/final_proj_data\"))"
   ]
  },
  {
   "cell_type": "code",
   "execution_count": null,
   "metadata": {},
   "outputs": [],
   "source": []
  }
 ],
 "metadata": {
  "kernelspec": {
   "display_name": "Python 3 (ipykernel)",
   "language": "python",
   "name": "python3"
  },
  "language_info": {
   "codemirror_mode": {
    "name": "ipython",
    "version": 3
   },
   "file_extension": ".py",
   "mimetype": "text/x-python",
   "name": "python",
   "nbconvert_exporter": "python",
   "pygments_lexer": "ipython3",
   "version": "3.9.15"
  }
 },
 "nbformat": 4,
 "nbformat_minor": 2
}
