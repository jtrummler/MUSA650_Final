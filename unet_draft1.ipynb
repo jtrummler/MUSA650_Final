{
 "cells": [
  {
   "attachments": {},
   "cell_type": "markdown",
   "metadata": {},
   "source": [
    "Step 1: Run in the terminal \"pip install kaggle\"  \n",
    "Step 2: Activate kaggle API token in Account tab  \n",
    "Step 3: Get kaggle.json file -> save to C:/Users/jtrum/.kaggle  \n",
    "Step 4: Run in the terminal \"kaggle datasets download -d kmader/satellite-images-of-hurricane-damage  \n",
    "Step 5: Run code chunk below -> specify pathway where it says (\"~/datasets/\")  "
   ]
  },
  {
   "cell_type": "code",
   "execution_count": 1,
   "metadata": {},
   "outputs": [],
   "source": [
    "import os\n",
    "import zipfile\n",
    "\n",
    "with zipfile.ZipFile(\"satellite-images-of-hurricane-damage.zip\", \"r\") as zip_ref:\n",
    "    zip_ref.extractall(os.path.expanduser(\"C:/Users/jtrum/pennmusa/MUSA6500/final_proj_data\"))"
   ]
  },
  {
   "cell_type": "code",
   "execution_count": 1,
   "metadata": {},
   "outputs": [],
   "source": [
    "import numpy as np\n",
    "import seaborn as sns\n",
    "import pandas as pd\n",
    "import matplotlib.pyplot as plt\n",
    "import keras as keras\n",
    "import tensorflow as tf\n",
    "from tensorflow.keras.layers import Input, Conv2D, MaxPooling2D, Dropout, UpSampling2D, Concatenate\n",
    "from tensorflow.keras.models import Model"
   ]
  },
  {
   "attachments": {},
   "cell_type": "markdown",
   "metadata": {},
   "source": [
    "Training data (5000 of each class)"
   ]
  },
  {
   "cell_type": "code",
   "execution_count": 2,
   "metadata": {},
   "outputs": [
    {
     "name": "stdout",
     "output_type": "stream",
     "text": [
      "Found 10000 files belonging to 2 classes.\n",
      "WARNING:tensorflow:From c:\\Users\\jtrum\\miniconda3\\envs\\musa-650\\lib\\site-packages\\tensorflow\\python\\autograph\\pyct\\static_analysis\\liveness.py:83: Analyzer.lamba_check (from tensorflow.python.autograph.pyct.static_analysis.liveness) is deprecated and will be removed after 2023-09-23.\n",
      "Instructions for updating:\n",
      "Lambda fuctions will be no more assumed to be used in the statement where they are used, or at least in the same block. https://github.com/tensorflow/tensorflow/issues/56089\n"
     ]
    }
   ],
   "source": [
    "#Since the channels are 3, we can use keras to import into a dataset.\n",
    "train_path = 'C:/Users/jtrum/pennmusa/MUSA6500/final_proj_data/train_another'\n",
    "\n",
    "#Use Keras to import data\n",
    "train_dataset = keras.utils.image_dataset_from_directory(\n",
    "    train_path,\n",
    "    labels=\"inferred\",\n",
    "    label_mode=\"int\",\n",
    "    class_names= ['no_damage', 'damage'],\n",
    "    color_mode=\"rgb\",\n",
    "    batch_size=32,\n",
    "    image_size=(128, 128),\n",
    "    shuffle=False,\n",
    "    seed=None,\n",
    "    validation_split=None,\n",
    "    subset=None,\n",
    "    interpolation=\"bilinear\",\n",
    "    follow_links=False,\n",
    "    crop_to_aspect_ratio=False,\n",
    ")\n",
    "\n",
    "#Convert keras dataset to numpy array\n",
    "train_dataset = train_dataset.unbatch()\n",
    "train_X = np.asarray(list(train_dataset.map(lambda x, y: x)))\n",
    "train_y = np.asarray(list(train_dataset.map(lambda x, y: y)))"
   ]
  },
  {
   "attachments": {},
   "cell_type": "markdown",
   "metadata": {},
   "source": [
    "Validation data (1000 of each class)"
   ]
  },
  {
   "cell_type": "code",
   "execution_count": 3,
   "metadata": {},
   "outputs": [
    {
     "name": "stdout",
     "output_type": "stream",
     "text": [
      "Found 2000 files belonging to 2 classes.\n"
     ]
    }
   ],
   "source": [
    "#Since the channels are 3, we can use keras to import into a dataset.\n",
    "val_path = 'C:/Users/jtrum/pennmusa/MUSA6500/final_proj_data/validation_another'\n",
    "\n",
    "#Use Keras to import data\n",
    "val_dataset = keras.utils.image_dataset_from_directory(\n",
    "    val_path,\n",
    "    labels=\"inferred\",\n",
    "    label_mode=\"int\",\n",
    "    class_names= ['no_damage', 'damage'],\n",
    "    color_mode=\"rgb\",\n",
    "    batch_size=32,\n",
    "    image_size=(128, 128),\n",
    "    shuffle=False,\n",
    "    seed=None,\n",
    "    validation_split=None,\n",
    "    subset=None,\n",
    "    interpolation=\"bilinear\",\n",
    "    follow_links=False,\n",
    "    crop_to_aspect_ratio=False,\n",
    ")\n",
    "\n",
    "#Convert keras dataset to numpy array\n",
    "val_dataset = val_dataset.unbatch()\n",
    "val_X = np.asarray(list(val_dataset.map(lambda x, y: x)))\n",
    "val_y = np.asarray(list(val_dataset.map(lambda x, y: y)))"
   ]
  },
  {
   "attachments": {},
   "cell_type": "markdown",
   "metadata": {},
   "source": [
    "Test dataset (1000 of each class)"
   ]
  },
  {
   "cell_type": "code",
   "execution_count": 4,
   "metadata": {},
   "outputs": [
    {
     "name": "stdout",
     "output_type": "stream",
     "text": [
      "Found 2000 files belonging to 2 classes.\n"
     ]
    }
   ],
   "source": [
    "#Since the channels are 3, we can use keras to import into a dataset.\n",
    "test_path = 'C:/Users/jtrum/pennmusa/MUSA6500/final_proj_data/test'\n",
    "\n",
    "#Use Keras to import data\n",
    "test_dataset = keras.utils.image_dataset_from_directory(\n",
    "    test_path,\n",
    "    labels=\"inferred\",\n",
    "    label_mode=\"int\",\n",
    "    class_names= ['no_damage', 'damage'],\n",
    "    color_mode=\"rgb\",\n",
    "    batch_size=32,\n",
    "    image_size=(128, 128),\n",
    "    shuffle=False,\n",
    "    seed=None,\n",
    "    validation_split=None,\n",
    "    subset=None,\n",
    "    interpolation=\"bilinear\",\n",
    "    follow_links=False,\n",
    "    crop_to_aspect_ratio=False,\n",
    ")\n",
    "\n",
    "#Convert keras dataset to numpy array\n",
    "test_dataset = test_dataset.unbatch()\n",
    "test_X = np.asarray(list(test_dataset.map(lambda x, y: x)))\n",
    "test_y = np.asarray(list(test_dataset.map(lambda x, y: y)))"
   ]
  },
  {
   "cell_type": "code",
   "execution_count": 31,
   "metadata": {},
   "outputs": [
    {
     "data": {
      "text/plain": [
       "array([1, 1, 1, ..., 0, 0, 0])"
      ]
     },
     "execution_count": 31,
     "metadata": {},
     "output_type": "execute_result"
    }
   ],
   "source": [
    "test_y"
   ]
  },
  {
   "cell_type": "code",
   "execution_count": 5,
   "metadata": {},
   "outputs": [
    {
     "data": {
      "image/png": "[encoded data removed]",
      "text/plain": [
       "<Figure size 800x600 with 1 Axes>"
      ]
     },
     "metadata": {},
     "output_type": "display_data"
    }
   ],
   "source": [
    "import matplotlib.pyplot as plt\n",
    "\n",
    "# Define the labels\n",
    "labels = ['No Damage', 'Damage']\n",
    "\n",
    "# Count the number of labels in each array\n",
    "train_counts = [sum(train_y==0), sum(train_y==1)]\n",
    "val_counts = [sum(val_y==0), sum(val_y==1)]\n",
    "test_counts = [sum(test_y==0), sum(test_y==1)]\n",
    "\n",
    "# Create a barplot\n",
    "fig, ax = plt.subplots(figsize=(8,6))\n",
    "x = np.arange(len(labels))  # the label locations\n",
    "width = 0.2  # the width of the bars\n",
    "\n",
    "rects1 = ax.bar(x - width, train_counts, width, label='Train', color='#FF8C8DFF')\n",
    "rects2 = ax.bar(x, val_counts, width, label='Validation', color='#AFDE62FF')\n",
    "rects3 = ax.bar(x + width, test_counts, width, label='Test', color='#4F5791FF')\n",
    "\n",
    "# Add some text for labels, title and custom x-axis tick labels, etc.\n",
    "ax.set_ylabel('Number of Images')\n",
    "ax.set_title('Distribution of Labels in Train, Validation, and Test Sets')\n",
    "ax.set_xticks(x)\n",
    "ax.set_xticklabels(labels)\n",
    "ax.legend()\n",
    "sns.set_style(\"ticks\")\n",
    "\n",
    "# Add counts above the bars\n",
    "def autolabel(rects):\n",
    "    for rect in rects:\n",
    "        height = rect.get_height()\n",
    "        ax.annotate('{}'.format(height),\n",
    "                    xy=(rect.get_x() + rect.get_width() / 2, height),\n",
    "                    xytext=(0, 3),  # 3 points vertical offset\n",
    "                    textcoords=\"offset points\",\n",
    "                    ha='center', va='bottom')\n",
    "\n",
    "autolabel(rects1)\n",
    "autolabel(rects2)\n",
    "autolabel(rects3)\n",
    "\n",
    "plt.show()\n"
   ]
  },
  {
   "attachments": {},
   "cell_type": "markdown",
   "metadata": {},
   "source": [
    "U-NET"
   ]
  },
  {
   "cell_type": "code",
   "execution_count": 6,
   "metadata": {},
   "outputs": [],
   "source": [
    "import tensorflow as tf\n",
    "from tensorflow import keras\n",
    "from tensorflow.keras import layers\n",
    "from tensorflow.keras.preprocessing.image import ImageDataGenerator\n"
   ]
  },
  {
   "cell_type": "code",
   "execution_count": 7,
   "metadata": {},
   "outputs": [],
   "source": [
    "from tensorflow import keras\n",
    "from tensorflow.keras import layers\n",
    "import tensorflow as tf\n",
    "\n",
    "def unet(input_size=(128, 128, 3)):\n",
    "    inputs = keras.Input(shape=input_size)\n",
    "\n",
    "    # down sampling\n",
    "    conv1 = layers.Conv2D(32, 3, activation='relu', padding='same')(inputs)\n",
    "    conv1 = layers.Conv2D(32, 3, activation='relu', padding='same')(conv1)\n",
    "    pool1 = layers.MaxPooling2D(pool_size=(2, 2))(conv1)\n",
    "\n",
    "    conv2 = layers.Conv2D(64, 3, activation='relu', padding='same')(pool1)\n",
    "    conv2 = layers.Conv2D(64, 3, activation='relu', padding='same')(conv2)\n",
    "    pool2 = layers.MaxPooling2D(pool_size=(2, 2))(conv2)\n",
    "\n",
    "    conv3 = layers.Conv2D(128, 3, activation='relu', padding='same')(pool2)\n",
    "    conv3 = layers.Conv2D(128, 3, activation='relu', padding='same')(conv3)\n",
    "    pool3 = layers.MaxPooling2D(pool_size=(2, 2))(conv3)\n",
    "\n",
    "    conv4 = layers.Conv2D(256, 3, activation='relu', padding='same')(pool3)\n",
    "    conv4 = layers.Conv2D(256, 3, activation='relu', padding='same')(conv4)\n",
    "    pool4 = layers.MaxPooling2D(pool_size=(2, 2))(conv4)\n",
    "\n",
    "    # bottom of u net architecture\n",
    "    conv5 = layers.Conv2D(512, 3, activation='relu', padding='same')(pool4)\n",
    "    conv5 = layers.Conv2D(512, 3, activation='relu', padding='same')(conv5)\n",
    "    drop5 = layers.Dropout(0.5)(conv5)\n",
    "\n",
    "    # up sampling\n",
    "    up6 = layers.Conv2D(256, 2, activation='relu', padding='same')(layers.UpSampling2D(size=(2, 2))(drop5))\n",
    "    merge6 = layers.concatenate([conv4, up6], axis=3)\n",
    "    conv6 = layers.Conv2D(256, 3, activation='relu', padding='same')(merge6)\n",
    "    conv6 = layers.Conv2D(256, 3, activation='relu', padding='same')(conv6)\n",
    "\n",
    "    up7 = layers.Conv2D(128, 2, activation='relu', padding='same')(layers.UpSampling2D(size=(2, 2))(conv6))\n",
    "    merge7 = layers.concatenate([conv3, up7], axis=3)\n",
    "    conv7 = layers.Conv2D(128, 3, activation='relu', padding='same')(merge7)\n",
    "    conv7 = layers.Conv2D(128, 3, activation='relu', padding='same')(conv7)\n",
    "\n",
    "    up8 = layers.Conv2D(64, 2, activation='relu', padding='same')(layers.UpSampling2D(size=(2, 2))(conv7))\n",
    "    merge8 = layers.concatenate([conv2, up8], axis=3)\n",
    "    conv8 = layers.Conv2D(64, 3, activation='relu', padding='same')(merge8)\n",
    "    conv8 = layers.Conv2D(64, 3, activation='relu', padding='same')(conv8)\n",
    "\n",
    "    up9 = layers.Conv2D(32, 2, activation='relu', padding='same')(layers.UpSampling2D(size=(2, 2))(conv8))\n",
    "    merge9 = layers.concatenate([conv1, up9], axis=3)\n",
    "    conv9 = layers.Conv2D(32, 3, activation='relu', padding='same')(merge9)\n",
    "    conv9 = layers.Conv2D(32, 3, activation='relu', padding='same')(conv9)\n",
    "    conv9 = layers.Conv2D(2, 3, activation='relu', padding='same')(conv9)\n",
    "\n",
    "    outputs = layers.Conv2D(1, activation='sigmoid')(conv9)\n",
    "\n",
    "    model = keras.Model(inputs, outputs)\n",
    "    return model\n"
   ]
  },
  {
   "cell_type": "code",
   "execution_count": 8,
   "metadata": {},
   "outputs": [
    {
     "name": "stdout",
     "output_type": "stream",
     "text": [
      "Found 10000 images belonging to 2 classes.\n",
      "Found 2000 images belonging to 2 classes.\n",
      "Found 2000 images belonging to 2 classes.\n"
     ]
    }
   ],
   "source": [
    "train_datagen = ImageDataGenerator(rescale=1./255, shear_range=0.2, zoom_range=0.2, horizontal_flip=True)\n",
    "val_datagen = ImageDataGenerator(rescale=1./255)\n",
    "test_datagen = ImageDataGenerator(rescale=1./255)\n",
    "\n",
    "train_generator = train_datagen.flow_from_directory(train_path, target_size=(128, 128), batch_size=32, class_mode='binary')\n",
    "val_generator = val_datagen.flow_from_directory(val_path, target_size=(128, 128), batch_size=32, class_mode='binary')\n",
    "test_generator = test_datagen.flow_from_directory(test_path, target_size=(128, 128), batch_size=32, class_mode='binary')"
   ]
  },
  {
   "cell_type": "code",
   "execution_count": 9,
   "metadata": {},
   "outputs": [
    {
     "ename": "TypeError",
     "evalue": "__init__() missing 1 required positional argument: 'kernel_size'",
     "output_type": "error",
     "traceback": [
      "\u001b[1;31m---------------------------------------------------------------------------\u001b[0m",
      "\u001b[1;31mTypeError\u001b[0m                                 Traceback (most recent call last)",
      "Cell \u001b[1;32mIn[9], line 1\u001b[0m\n\u001b[1;32m----> 1\u001b[0m model \u001b[39m=\u001b[39m unet()\n\u001b[0;32m      3\u001b[0m model\u001b[39m.\u001b[39mcompile(optimizer\u001b[39m=\u001b[39m\u001b[39m'\u001b[39m\u001b[39madam\u001b[39m\u001b[39m'\u001b[39m, loss\u001b[39m=\u001b[39mtf\u001b[39m.\u001b[39mkeras\u001b[39m.\u001b[39mlosses\u001b[39m.\u001b[39mBinaryCrossentropy(from_logits\u001b[39m=\u001b[39m\u001b[39mTrue\u001b[39;00m), metrics\u001b[39m=\u001b[39m[\u001b[39m'\u001b[39m\u001b[39maccuracy\u001b[39m\u001b[39m'\u001b[39m])\n\u001b[0;32m      5\u001b[0m history \u001b[39m=\u001b[39m model\u001b[39m.\u001b[39mfit(train_generator, epochs\u001b[39m=\u001b[39m\u001b[39m10\u001b[39m, validation_data\u001b[39m=\u001b[39mval_generator)\n",
      "Cell \u001b[1;32mIn[7], line 52\u001b[0m, in \u001b[0;36munet\u001b[1;34m(input_size)\u001b[0m\n\u001b[0;32m     49\u001b[0m conv9 \u001b[39m=\u001b[39m layers\u001b[39m.\u001b[39mConv2D(\u001b[39m32\u001b[39m, \u001b[39m3\u001b[39m, activation\u001b[39m=\u001b[39m\u001b[39m'\u001b[39m\u001b[39mrelu\u001b[39m\u001b[39m'\u001b[39m, padding\u001b[39m=\u001b[39m\u001b[39m'\u001b[39m\u001b[39msame\u001b[39m\u001b[39m'\u001b[39m)(conv9)\n\u001b[0;32m     50\u001b[0m conv9 \u001b[39m=\u001b[39m layers\u001b[39m.\u001b[39mConv2D(\u001b[39m2\u001b[39m, \u001b[39m3\u001b[39m, activation\u001b[39m=\u001b[39m\u001b[39m'\u001b[39m\u001b[39mrelu\u001b[39m\u001b[39m'\u001b[39m, padding\u001b[39m=\u001b[39m\u001b[39m'\u001b[39m\u001b[39msame\u001b[39m\u001b[39m'\u001b[39m)(conv9)\n\u001b[1;32m---> 52\u001b[0m outputs \u001b[39m=\u001b[39m layers\u001b[39m.\u001b[39;49mConv2D(\u001b[39m1\u001b[39;49m, activation\u001b[39m=\u001b[39;49m\u001b[39m'\u001b[39;49m\u001b[39msigmoid\u001b[39;49m\u001b[39m'\u001b[39;49m)(conv9)\n\u001b[0;32m     54\u001b[0m model \u001b[39m=\u001b[39m keras\u001b[39m.\u001b[39mModel(inputs, outputs)\n\u001b[0;32m     55\u001b[0m \u001b[39mreturn\u001b[39;00m model\n",
      "File \u001b[1;32mc:\\Users\\jtrum\\miniconda3\\envs\\musa-650\\lib\\site-packages\\keras\\dtensor\\utils.py:96\u001b[0m, in \u001b[0;36mallow_initializer_layout.<locals>._wrap_function\u001b[1;34m(layer_instance, *args, **kwargs)\u001b[0m\n\u001b[0;32m     93\u001b[0m         \u001b[39mif\u001b[39;00m layout:\n\u001b[0;32m     94\u001b[0m             layout_args[variable_name \u001b[39m+\u001b[39m \u001b[39m\"\u001b[39m\u001b[39m_layout\u001b[39m\u001b[39m\"\u001b[39m] \u001b[39m=\u001b[39m layout\n\u001b[1;32m---> 96\u001b[0m init_method(layer_instance, \u001b[39m*\u001b[39margs, \u001b[39m*\u001b[39m\u001b[39m*\u001b[39mkwargs)\n\u001b[0;32m     98\u001b[0m \u001b[39m# Inject the layout parameter after the invocation of __init__()\u001b[39;00m\n\u001b[0;32m     99\u001b[0m \u001b[39mfor\u001b[39;00m layout_param_name, layout \u001b[39min\u001b[39;00m layout_args\u001b[39m.\u001b[39mitems():\n",
      "\u001b[1;31mTypeError\u001b[0m: __init__() missing 1 required positional argument: 'kernel_size'"
     ]
    }
   ],
   "source": [
    "model = unet()\n",
    "\n",
    "model.compile(optimizer='adam', loss=tf.keras.losses.BinaryCrossentropy(from_logits=True), metrics=['accuracy'])\n",
    "\n",
    "history = model.fit(train_generator, epochs=10, validation_data=val_generator)\n",
    "\n",
    "test_loss, test_acc = model.evaluate(test_generator)\n",
    "print('Test loss:', test_loss)\n",
    "print('Test accuracy:', test_acc)"
   ]
  }
 ],
 "metadata": {
  "kernelspec": {
   "display_name": "musa-650",
   "language": "python",
   "name": "python3"
  },
  "language_info": {
   "codemirror_mode": {
    "name": "ipython",
    "version": 3
   },
   "file_extension": ".py",
   "mimetype": "text/x-python",
   "name": "python",
   "nbconvert_exporter": "python",
   "pygments_lexer": "ipython3",
   "version": "3.9.15"
  },
  "orig_nbformat": 4
 },
 "nbformat": 4,
 "nbformat_minor": 2
}
